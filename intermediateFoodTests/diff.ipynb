{
 "cells": [
  {
   "cell_type": "code",
   "execution_count": 27,
   "metadata": {},
   "outputs": [],
   "source": [
    "import pandas as pd"
   ]
  },
  {
   "cell_type": "code",
   "execution_count": 28,
   "metadata": {},
   "outputs": [
    {
     "data": {
      "text/plain": [
       "m        0.000000e+00\n",
       "p        0.000000e+00\n",
       "h        6.494361e-12\n",
       "T        2.223999e-12\n",
       "v        0.000000e+00\n",
       "vol      0.000000e+00\n",
       "s        1.830358e-11\n",
       "x        0.000000e+00\n",
       "Td_bp    0.000000e+00\n",
       "PHE      0.000000e+00\n",
       "S800     0.000000e+00\n",
       "Water    1.110223e-16\n",
       "dtype: float64"
      ]
     },
     "execution_count": 28,
     "metadata": {},
     "output_type": "execute_result"
    }
   ],
   "source": [
    "df = pd.read_csv(\"Ex4tespy070.csv\", index_col=0)\n",
    "df.index = df.index.str.lower()\n",
    "df_ref = pd.read_csv(\"Ex4EEMAP_ref.csv\", index_col=0)\n",
    "df_ref.index = df_ref.index.str.lower()\n",
    "(df.loc[:, df_ref.columns] - df_ref).abs().max()"
   ]
  },
  {
   "cell_type": "code",
   "execution_count": 29,
   "metadata": {},
   "outputs": [
    {
     "data": {
      "text/plain": [
       "m        0.000000e+00\n",
       "p        0.000000e+00\n",
       "h        0.000000e+00\n",
       "T        5.684342e-14\n",
       "v        0.000000e+00\n",
       "vol      0.000000e+00\n",
       "s        0.000000e+00\n",
       "x        0.000000e+00\n",
       "Td_bp    0.000000e+00\n",
       "PHE      0.000000e+00\n",
       "S800     0.000000e+00\n",
       "Water    0.000000e+00\n",
       "dtype: float64"
      ]
     },
     "execution_count": 29,
     "metadata": {},
     "output_type": "execute_result"
    }
   ],
   "source": [
    "df = pd.read_csv(\"Ex1tespy070.csv\", index_col=0)\n",
    "df.index = df.index.str.lower()\n",
    "df_ref = pd.read_csv(\"Ex1EEMAP_ref.csv\", index_col=0)\n",
    "df_ref.index = df_ref.index.str.lower()\n",
    "(df.loc[:, df_ref.columns] - df_ref).abs().max()"
   ]
  },
  {
   "cell_type": "code",
   "execution_count": 30,
   "metadata": {},
   "outputs": [
    {
     "data": {
      "text/plain": [
       "m        7.105427e-15\n",
       "p        0.000000e+00\n",
       "h        1.131468e-10\n",
       "T        1.203944e-10\n",
       "v        8.985868e-16\n",
       "vol      9.996344e-17\n",
       "s        1.285571e-09\n",
       "x        0.000000e+00\n",
       "Td_bp    0.000000e+00\n",
       "PHE      8.326673e-17\n",
       "S800     2.220446e-16\n",
       "Water    1.110223e-16\n",
       "dtype: float64"
      ]
     },
     "execution_count": 30,
     "metadata": {},
     "output_type": "execute_result"
    }
   ],
   "source": [
    "df = pd.read_csv(\"Ex8tespy070_1.csv\", index_col=0)\n",
    "df.index = df.index.str.lower()\n",
    "df_ref = pd.read_csv(\"Ex8EEMAP_ref_1.csv\", index_col=0)\n",
    "df_ref.index = df_ref.index.str.lower()\n",
    "(df.loc[:, df_ref.columns] - df_ref).abs().max()"
   ]
  },
  {
   "cell_type": "code",
   "execution_count": 31,
   "metadata": {},
   "outputs": [
    {
     "data": {
      "text/plain": [
       "m        7.105427e-15\n",
       "p        0.000000e+00\n",
       "h        1.131468e-10\n",
       "T        1.203944e-10\n",
       "v        8.985868e-16\n",
       "vol      9.996344e-17\n",
       "s        1.285571e-09\n",
       "x        0.000000e+00\n",
       "Td_bp    0.000000e+00\n",
       "PHE      8.326673e-17\n",
       "S800     2.220446e-16\n",
       "Water    1.110223e-16\n",
       "dtype: float64"
      ]
     },
     "execution_count": 31,
     "metadata": {},
     "output_type": "execute_result"
    }
   ],
   "source": [
    "df = pd.read_csv(\"Ex8tespy070_2.csv\", index_col=0)\n",
    "df.index = df.index.str.lower()\n",
    "df_ref = pd.read_csv(\"Ex8EEMAP_ref_2.csv\", index_col=0)\n",
    "df_ref.index = df_ref.index.str.lower()\n",
    "(df.loc[:, df_ref.columns] - df_ref).abs().max()"
   ]
  },
  {
   "cell_type": "code",
   "execution_count": 32,
   "metadata": {},
   "outputs": [
    {
     "data": {
      "text/plain": [
       "m        1.421085e-14\n",
       "p        1.125842e-10\n",
       "h        4.909452e-09\n",
       "T        3.110756e-09\n",
       "v        3.596284e-09\n",
       "vol      1.735734e-10\n",
       "s        3.728383e-08\n",
       "x        0.000000e+00\n",
       "Td_bp    0.000000e+00\n",
       "Water    5.551115e-16\n",
       "PHE      2.220446e-16\n",
       "S800     1.040834e-16\n",
       "dtype: float64"
      ]
     },
     "execution_count": 32,
     "metadata": {},
     "output_type": "execute_result"
    }
   ],
   "source": [
    "df = pd.read_csv(\"Ex9tespy070.csv\", index_col=0)\n",
    "df.index = df.index.str.lower()\n",
    "df_ref = pd.read_csv(\"Ex9EEMAP_ref.csv\", index_col=0)\n",
    "df_ref.index = df_ref.index.str.lower()\n",
    "(df.loc[:, df_ref.columns] - df_ref).abs().max()"
   ]
  }
 ],
 "metadata": {
  "kernelspec": {
   "display_name": "tespy-env",
   "language": "python",
   "name": "python3"
  },
  "language_info": {
   "codemirror_mode": {
    "name": "ipython",
    "version": 3
   },
   "file_extension": ".py",
   "mimetype": "text/x-python",
   "name": "python",
   "nbconvert_exporter": "python",
   "pygments_lexer": "ipython3",
   "version": "3.8.15"
  },
  "orig_nbformat": 4
 },
 "nbformat": 4,
 "nbformat_minor": 2
}
